{
 "cells": [
  {
   "cell_type": "code",
   "execution_count": 7,
   "id": "9bbaae2c",
   "metadata": {},
   "outputs": [],
   "source": [
    "import numpy as np"
   ]
  },
  {
   "cell_type": "code",
   "execution_count": 194,
   "id": "1d17e106",
   "metadata": {},
   "outputs": [],
   "source": [
    "lb = np.array([1,2])\n",
    "ub = np.array([6,9])\n",
    "Np = 5\n",
    "w = .7\n",
    "c1 = 1.5\n",
    "c2 = 1.5\n",
    "T = 10"
   ]
  },
  {
   "cell_type": "code",
   "execution_count": 3,
   "id": "9e717dac",
   "metadata": {},
   "outputs": [],
   "source": [
    "def func(x):\n",
    "    return sum(i**2 for i in x)\n"
   ]
  },
  {
   "cell_type": "code",
   "execution_count": 251,
   "id": "cdec4708",
   "metadata": {},
   "outputs": [
    {
     "name": "stdout",
     "output_type": "stream",
     "text": [
      "Best Position: [5.]\n",
      "Best Solution: [1 2]\n"
     ]
    }
   ],
   "source": [
    "f = np.empty([Np,1])\n",
    "D = len(lb)\n",
    "P = np.random.randint(lb,ub+1,[Np,len(lb)])\n",
    "V = np.random.randint(lb,ub+1,[Np,len(lb)])\n",
    "\n",
    "\n",
    "for p in range(Np):\n",
    "        f[p] = func(P[p,:])\n",
    "\n",
    "pbest = P\n",
    "f_pbest = f\n",
    "f_gbest = min(f_pbest)\n",
    "ind = np.where(f_pbest==min(f_pbest))\n",
    "gbest = P[ind[0],:]\n",
    "\n",
    "\n",
    "\n",
    "for t in range(T):\n",
    "    for p in range(Np):\n",
    "        \n",
    "        V[p,:] = w*V[p,:] + c1*np.random.rand(1,D)*(pbest[p,:]-P[p,:]) + c1*np.random.rand(1,D)*(gbest-P[p,:])\n",
    "        P[p,:] = P[p,:] + V[p,:]\n",
    "        P[p,:] = np.clip(P[p,:],lb,ub)\n",
    "        \n",
    "        f[p] = func(P[p,:])\n",
    "        \n",
    "        if f[p] < f_pbest[p]:\n",
    "            f_pbest[p] = f[p]\n",
    "            pbest[p,:] = P[p,:]\n",
    "            \n",
    "        if f_pbest[p] < f_gbest:\n",
    "            f_gbest = f_pbest[p]\n",
    "            gbest = pbest[p,:]\n",
    "            \n",
    "            \n",
    "\n",
    "print('Best Position: {}'.format(gbest))\n",
    "print('Best Solution: {}'.format(f_gbest))"
   ]
  },
  {
   "cell_type": "code",
   "execution_count": null,
   "id": "18db2bdb",
   "metadata": {},
   "outputs": [],
   "source": []
  }
 ],
 "metadata": {
  "kernelspec": {
   "display_name": "Python 3",
   "language": "python",
   "name": "python3"
  },
  "language_info": {
   "codemirror_mode": {
    "name": "ipython",
    "version": 3
   },
   "file_extension": ".py",
   "mimetype": "text/x-python",
   "name": "python",
   "nbconvert_exporter": "python",
   "pygments_lexer": "ipython3",
   "version": "3.8.6"
  }
 },
 "nbformat": 4,
 "nbformat_minor": 5
}
